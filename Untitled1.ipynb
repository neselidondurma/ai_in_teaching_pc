{
 "cells": [
  {
   "cell_type": "code",
   "execution_count": 1,
   "id": "7619f1e3-edac-41a2-a3d8-135f955c65e5",
   "metadata": {},
   "outputs": [],
   "source": [
    "%%capture\n",
    "!git clone 'https://github.com/ali7919/Enlighten-Instruct.git'\n",
    "!pip install -U bitsandbytes\n",
    "!pip install transformers==4.36.2\n",
    "!pip install -U peft\n",
    "!pip install -U accelerate\n",
    "!pip install -U trl\n",
    "!pip install datasets==2.16.0\n",
    "!pip install sentencepiece\n",
    "!pip install huggingface_hub"
   ]
  },
  {
   "cell_type": "code",
   "execution_count": 2,
   "id": "7c983926-024e-4d90-85e3-d58afa86d2b0",
   "metadata": {},
   "outputs": [
    {
     "name": "stdout",
     "output_type": "stream",
     "text": [
      "Defaulting to user installation because normal site-packages is not writeable\n",
      "Requirement already satisfied: huggingface_hub in /workspace/environments/pc_gpt/lib/python3.9/site-packages (0.23.0)\n",
      "Requirement already satisfied: filelock in /workspace/environments/pc_gpt/lib/python3.9/site-packages (from huggingface_hub) (3.14.0)\n",
      "Requirement already satisfied: fsspec>=2023.5.0 in /workspace/environments/pc_gpt/lib/python3.9/site-packages (from huggingface_hub) (2024.3.1)\n",
      "Requirement already satisfied: packaging>=20.9 in /workspace/environments/pc_gpt/lib/python3.9/site-packages (from huggingface_hub) (24.0)\n",
      "Requirement already satisfied: pyyaml>=5.1 in /workspace/environments/pc_gpt/lib/python3.9/site-packages (from huggingface_hub) (6.0.1)\n",
      "Requirement already satisfied: requests in /workspace/environments/pc_gpt/lib/python3.9/site-packages (from huggingface_hub) (2.31.0)\n",
      "Requirement already satisfied: tqdm>=4.42.1 in /workspace/environments/pc_gpt/lib/python3.9/site-packages (from huggingface_hub) (4.66.2)\n",
      "Requirement already satisfied: typing-extensions>=3.7.4.3 in /workspace/environments/pc_gpt/lib/python3.9/site-packages (from huggingface_hub) (4.11.0)\n",
      "Requirement already satisfied: charset-normalizer<4,>=2 in /workspace/environments/pc_gpt/lib/python3.9/site-packages (from requests->huggingface_hub) (3.3.2)\n",
      "Requirement already satisfied: idna<4,>=2.5 in /workspace/environments/pc_gpt/lib/python3.9/site-packages (from requests->huggingface_hub) (3.7)\n",
      "Requirement already satisfied: urllib3<3,>=1.21.1 in /workspace/environments/pc_gpt/lib/python3.9/site-packages (from requests->huggingface_hub) (2.2.1)\n",
      "Requirement already satisfied: certifi>=2017.4.17 in /workspace/environments/pc_gpt/lib/python3.9/site-packages (from requests->huggingface_hub) (2024.2.2)\n",
      "Note: you may need to restart the kernel to use updated packages.\n"
     ]
    }
   ],
   "source": [
    "%pip install huggingface_hub"
   ]
  },
  {
   "cell_type": "code",
   "execution_count": 3,
   "id": "1782e6f1-4dea-41f6-843b-c2546098bc2c",
   "metadata": {},
   "outputs": [
    {
     "name": "stderr",
     "output_type": "stream",
     "text": [
      "The installed version of bitsandbytes was compiled without GPU support. 8-bit optimizers, 8-bit multiplication, and GPU quantization are unavailable.\n"
     ]
    }
   ],
   "source": [
    "from transformers import AutoModelForCausalLM, AutoTokenizer, BitsAndBytesConfig,HfArgumentParser,TrainingArguments,pipeline, logging\n",
    "from peft import LoraConfig, PeftModel, prepare_model_for_kbit_training, get_peft_model\n",
    "import os,torch\n",
    "from datasets import load_dataset\n",
    "from trl import SFTTrainer\n",
    "import pandas as pd\n",
    "import pyarrow as pa\n",
    "import pyarrow.dataset as ds\n",
    "import pandas as pd\n",
    "from datasets import Dataset\n",
    "import re"
   ]
  },
  {
   "cell_type": "code",
   "execution_count": 10,
   "id": "e0b23c21-3625-4655-9805-e15605f0cf4f",
   "metadata": {},
   "outputs": [],
   "source": [
    "import huggingface_hub"
   ]
  },
  {
   "cell_type": "code",
   "execution_count": 11,
   "id": "6e216c21-1543-4436-ab16-1a011bbe84d5",
   "metadata": {},
   "outputs": [],
   "source": [
    "import dotenv"
   ]
  },
  {
   "cell_type": "code",
   "execution_count": 18,
   "id": "19ff3fb7-70f9-44ea-a4cf-076f803eb540",
   "metadata": {},
   "outputs": [],
   "source": [
    "huggingface_token = os.environ.get(\"HUGGINGFACE_TOKEN\")"
   ]
  },
  {
   "cell_type": "code",
   "execution_count": 19,
   "id": "0aa4f4ea-577e-4a09-aff0-0a9ea6bd3150",
   "metadata": {},
   "outputs": [
    {
     "ename": "SyntaxError",
     "evalue": "invalid syntax (3724326820.py, line 1)",
     "output_type": "error",
     "traceback": [
      "\u001b[0;36m  Cell \u001b[0;32mIn[19], line 1\u001b[0;36m\u001b[0m\n\u001b[0;31m    huggingface-cli login -token huggingface_token\u001b[0m\n\u001b[0m                    ^\u001b[0m\n\u001b[0;31mSyntaxError\u001b[0m\u001b[0;31m:\u001b[0m invalid syntax\n"
     ]
    }
   ],
   "source": [
    "huggingface-cli login -token huggingface_token"
   ]
  },
  {
   "cell_type": "code",
   "execution_count": 15,
   "id": "3bdab84e-4be0-43e4-b5f9-a5719986995b",
   "metadata": {},
   "outputs": [
    {
     "name": "stderr",
     "output_type": "stream",
     "text": [
      "sh: line 1: huggingface-cli: command not found\n"
     ]
    },
    {
     "data": {
      "text/plain": [
       "32512"
      ]
     },
     "execution_count": 15,
     "metadata": {},
     "output_type": "execute_result"
    }
   ],
   "source": [
    "command = f\"huggingface-cli login --token {huggingface_token}\"\n",
    "os.system(command)"
   ]
  },
  {
   "cell_type": "code",
   "execution_count": 17,
   "id": "2c272d74-80f7-428d-b668-15e58ed45ee0",
   "metadata": {},
   "outputs": [
    {
     "name": "stdout",
     "output_type": "stream",
     "text": [
      "/bin/bash: line 1: huggingface-cli: command not found\n"
     ]
    }
   ],
   "source": [
    "!huggingface-cli --version"
   ]
  },
  {
   "cell_type": "code",
   "execution_count": 20,
   "id": "235403c6-4a8c-418d-8347-ea02e2167548",
   "metadata": {},
   "outputs": [
    {
     "name": "stdout",
     "output_type": "stream",
     "text": [
      "/bin/bash: line 1: huggingface-cli: command not found\n"
     ]
    }
   ],
   "source": [
    "!huggingface-cli login"
   ]
  },
  {
   "cell_type": "code",
   "execution_count": 21,
   "id": "05a49a2f-46eb-444d-abf1-65aced1b7370",
   "metadata": {},
   "outputs": [
    {
     "name": "stdout",
     "output_type": "stream",
     "text": [
      "/bin/bash: line 1: python: command not found\n"
     ]
    }
   ],
   "source": [
    "!python -m huggingface_hub login -token huggingface_token\n"
   ]
  },
  {
   "cell_type": "code",
   "execution_count": 22,
   "id": "a4b45d19-2192-487c-9d09-0f01da0b5154",
   "metadata": {},
   "outputs": [
    {
     "name": "stdout",
     "output_type": "stream",
     "text": [
      "which: no python in (/usr/local/sbin:/usr/local/bin:/usr/sbin:/usr/bin:/sbin:/bin)\n"
     ]
    }
   ],
   "source": [
    "!which python"
   ]
  },
  {
   "cell_type": "code",
   "execution_count": null,
   "id": "526e7b3c-b23b-467e-baa8-b1c22cf879e4",
   "metadata": {},
   "outputs": [],
   "source": []
  }
 ],
 "metadata": {
  "kernelspec": {
   "display_name": "Python 3 (ipykernel)",
   "language": "python",
   "name": "python3"
  },
  "language_info": {
   "codemirror_mode": {
    "name": "ipython",
    "version": 3
   },
   "file_extension": ".py",
   "mimetype": "text/x-python",
   "name": "python",
   "nbconvert_exporter": "python",
   "pygments_lexer": "ipython3",
   "version": "3.9.19"
  }
 },
 "nbformat": 4,
 "nbformat_minor": 5
}
