{
  "cells": [
    {
      "cell_type": "markdown",
      "metadata": {
        "id": "q8VcMurQ4yoJ"
      },
      "source": [
        "Analyse Klausur Ergebnisse"
      ]
    },
    {
      "cell_type": "code",
      "execution_count": null,
      "metadata": {
        "id": "gCWLsFmn4xnB"
      },
      "outputs": [
        {
          "ename": "",
          "evalue": "",
          "output_type": "error",
          "traceback": [
            "\u001b[1;31mRunning cells with 'base' requires the ipykernel package.\n",
            "\u001b[1;31mRun the following command to install 'ipykernel' into the Python environment. \n",
            "\u001b[1;31mCommand: 'conda install -n base ipykernel --update-deps --force-reinstall'"
          ]
        }
      ],
      "source": [
        "import pandas as pd\n",
        "import matplotlib.pyplot as plt\n",
        "import numpy as np"
      ]
    },
    {
      "cell_type": "code",
      "execution_count": null,
      "metadata": {},
      "outputs": [
        {
          "ename": "",
          "evalue": "",
          "output_type": "error",
          "traceback": [
            "\u001b[1;31mRunning cells with 'base' requires the ipykernel package.\n",
            "\u001b[1;31mRun the following command to install 'ipykernel' into the Python environment. \n",
            "\u001b[1;31mCommand: 'conda install -n base ipykernel --update-deps --force-reinstall'"
          ]
        }
      ],
      "source": [
        "£ tryinggg"
      ]
    },
    {
      "cell_type": "code",
      "execution_count": null,
      "metadata": {},
      "outputs": [
        {
          "ename": "",
          "evalue": "",
          "output_type": "error",
          "traceback": [
            "\u001b[1;31mRunning cells with 'base' requires the ipykernel package.\n",
            "\u001b[1;31mRun the following command to install 'ipykernel' into the Python environment. \n",
            "\u001b[1;31mCommand: 'conda install -n base ipykernel --update-deps --force-reinstall'"
          ]
        }
      ],
      "source": [
        "lol"
      ]
    },
    {
      "cell_type": "code",
      "execution_count": null,
      "metadata": {
        "id": "hygolwdx43Mh"
      },
      "outputs": [
        {
          "ename": "",
          "evalue": "",
          "output_type": "error",
          "traceback": [
            "\u001b[1;31mRunning cells with 'base' requires the ipykernel package.\n",
            "\u001b[1;31mRun the following command to install 'ipykernel' into the Python environment. \n",
            "\u001b[1;31mCommand: 'conda install -n base ipykernel --update-deps --force-reinstall'"
          ]
        }
      ],
      "source": [
        "kurztest_df = pd.read_excel(\"kl_ergebnisse.xlsx\", sheet_name=\"Kurztests\")"
      ]
    },
    {
      "cell_type": "code",
      "execution_count": null,
      "metadata": {
        "colab": {
          "base_uri": "https://localhost:8080/"
        },
        "id": "dCKWI6PC43Ou",
        "outputId": "7559dfe5-3ca3-467e-d69b-8b9115991ba6"
      },
      "outputs": [
        {
          "ename": "",
          "evalue": "",
          "output_type": "error",
          "traceback": [
            "\u001b[1;31mRunning cells with 'base' requires the ipykernel package.\n",
            "\u001b[1;31mRun the following command to install 'ipykernel' into the Python environment. \n",
            "\u001b[1;31mCommand: 'conda install -n base ipykernel --update-deps --force-reinstall'"
          ]
        }
      ],
      "source": [
        "kurztest_df.columns"
      ]
    },
    {
      "cell_type": "code",
      "execution_count": null,
      "metadata": {
        "id": "iQQwRiiY8InZ"
      },
      "outputs": [
        {
          "ename": "",
          "evalue": "",
          "output_type": "error",
          "traceback": [
            "\u001b[1;31mRunning cells with 'base' requires the ipykernel package.\n",
            "\u001b[1;31mRun the following command to install 'ipykernel' into the Python environment. \n",
            "\u001b[1;31mCommand: 'conda install -n base ipykernel --update-deps --force-reinstall'"
          ]
        }
      ],
      "source": [
        "new_header = kurztest_df.iloc[0]  # Grab the first row for the header\n",
        "kurztest_df = kurztest_df[1:]  # Take the data less the header row\n",
        "kurztest_df.columns = new_header  # Set the header row as the df header\n",
        "\n",
        "# Step 2: Optionally, reset the index of the DataFrame\n",
        "kurztest_df.reset_index(drop=True, inplace=True)\n"
      ]
    },
    {
      "cell_type": "code",
      "execution_count": null,
      "metadata": {
        "colab": {
          "base_uri": "https://localhost:8080/",
          "height": 419
        },
        "id": "5qy5ZcK68JPZ",
        "outputId": "47ed8311-b3a6-4067-9c70-7ea3291d93be"
      },
      "outputs": [
        {
          "ename": "",
          "evalue": "",
          "output_type": "error",
          "traceback": [
            "\u001b[1;31mRunning cells with 'base' requires the ipykernel package.\n",
            "\u001b[1;31mRun the following command to install 'ipykernel' into the Python environment. \n",
            "\u001b[1;31mCommand: 'conda install -n base ipykernel --update-deps --force-reinstall'"
          ]
        }
      ],
      "source": [
        "kurztest_df"
      ]
    },
    {
      "cell_type": "code",
      "execution_count": null,
      "metadata": {
        "colab": {
          "base_uri": "https://localhost:8080/"
        },
        "id": "L1Tb40u66Xv7",
        "outputId": "719c2942-7521-455c-b74e-25806e830d51"
      },
      "outputs": [
        {
          "ename": "",
          "evalue": "",
          "output_type": "error",
          "traceback": [
            "\u001b[1;31mRunning cells with 'base' requires the ipykernel package.\n",
            "\u001b[1;31mRun the following command to install 'ipykernel' into the Python environment. \n",
            "\u001b[1;31mCommand: 'conda install -n base ipykernel --update-deps --force-reinstall'"
          ]
        }
      ],
      "source": [
        "kurztest_df.rename(columns={'Last 4 digits': 'ID'}, inplace=True)\n"
      ]
    },
    {
      "cell_type": "code",
      "execution_count": null,
      "metadata": {
        "colab": {
          "base_uri": "https://localhost:8080/",
          "height": 419
        },
        "id": "tbvt1Ee743Qs",
        "outputId": "79fcf701-3e86-4b7d-ecaa-abdfe6c7ac1e"
      },
      "outputs": [
        {
          "ename": "",
          "evalue": "",
          "output_type": "error",
          "traceback": [
            "\u001b[1;31mRunning cells with 'base' requires the ipykernel package.\n",
            "\u001b[1;31mRun the following command to install 'ipykernel' into the Python environment. \n",
            "\u001b[1;31mCommand: 'conda install -n base ipykernel --update-deps --force-reinstall'"
          ]
        }
      ],
      "source": [
        "kurztest_df"
      ]
    },
    {
      "cell_type": "code",
      "execution_count": null,
      "metadata": {
        "colab": {
          "base_uri": "https://localhost:8080/",
          "height": 419
        },
        "id": "10pxnrCb_W88",
        "outputId": "3c12a6da-6afa-4821-baaa-45088c080937"
      },
      "outputs": [
        {
          "ename": "",
          "evalue": "",
          "output_type": "error",
          "traceback": [
            "\u001b[1;31mRunning cells with 'base' requires the ipykernel package.\n",
            "\u001b[1;31mRun the following command to install 'ipykernel' into the Python environment. \n",
            "\u001b[1;31mCommand: 'conda install -n base ipykernel --update-deps --force-reinstall'"
          ]
        }
      ],
      "source": [
        "average_bewertung_kurztest = kurztest_df.groupby('ID')['Bewertung'].mean().reset_index()\n",
        "\n",
        "# average_bewertung now contains each 'ID' with the average 'Bewertung'\n",
        "\n",
        "average_bewertung_kurztest"
      ]
    },
    {
      "cell_type": "code",
      "execution_count": null,
      "metadata": {
        "id": "X3fRdxuL_W_P"
      },
      "outputs": [
        {
          "ename": "",
          "evalue": "",
          "output_type": "error",
          "traceback": [
            "\u001b[1;31mRunning cells with 'base' requires the ipykernel package.\n",
            "\u001b[1;31mRun the following command to install 'ipykernel' into the Python environment. \n",
            "\u001b[1;31mCommand: 'conda install -n base ipykernel --update-deps --force-reinstall'"
          ]
        }
      ],
      "source": []
    },
    {
      "cell_type": "code",
      "execution_count": null,
      "metadata": {
        "id": "Dtkw7r7c_XBY"
      },
      "outputs": [
        {
          "ename": "",
          "evalue": "",
          "output_type": "error",
          "traceback": [
            "\u001b[1;31mRunning cells with 'base' requires the ipykernel package.\n",
            "\u001b[1;31mRun the following command to install 'ipykernel' into the Python environment. \n",
            "\u001b[1;31mCommand: 'conda install -n base ipykernel --update-deps --force-reinstall'"
          ]
        }
      ],
      "source": []
    },
    {
      "cell_type": "code",
      "execution_count": null,
      "metadata": {
        "id": "9O7upRcn8VJH"
      },
      "outputs": [
        {
          "ename": "",
          "evalue": "",
          "output_type": "error",
          "traceback": [
            "\u001b[1;31mRunning cells with 'base' requires the ipykernel package.\n",
            "\u001b[1;31mRun the following command to install 'ipykernel' into the Python environment. \n",
            "\u001b[1;31mCommand: 'conda install -n base ipykernel --update-deps --force-reinstall'"
          ]
        }
      ],
      "source": [
        "klausur_df = pd.read_excel(\"kl_ergebnisse.xlsx\", sheet_name=\"Klausur\")"
      ]
    },
    {
      "cell_type": "code",
      "execution_count": null,
      "metadata": {
        "colab": {
          "base_uri": "https://localhost:8080/",
          "height": 1000
        },
        "id": "ziDpHQUt8VLm",
        "outputId": "457c23a8-1fa9-491b-ea67-2206c28460d2"
      },
      "outputs": [
        {
          "ename": "",
          "evalue": "",
          "output_type": "error",
          "traceback": [
            "\u001b[1;31mRunning cells with 'base' requires the ipykernel package.\n",
            "\u001b[1;31mRun the following command to install 'ipykernel' into the Python environment. \n",
            "\u001b[1;31mCommand: 'conda install -n base ipykernel --update-deps --force-reinstall'"
          ]
        }
      ],
      "source": [
        "klausur_df"
      ]
    },
    {
      "cell_type": "code",
      "execution_count": null,
      "metadata": {
        "colab": {
          "base_uri": "https://localhost:8080/"
        },
        "id": "h56oy2T1-iWx",
        "outputId": "6fdaf3ff-855f-4a11-fe27-33b43077c821"
      },
      "outputs": [
        {
          "ename": "",
          "evalue": "",
          "output_type": "error",
          "traceback": [
            "\u001b[1;31mRunning cells with 'base' requires the ipykernel package.\n",
            "\u001b[1;31mRun the following command to install 'ipykernel' into the Python environment. \n",
            "\u001b[1;31mCommand: 'conda install -n base ipykernel --update-deps --force-reinstall'"
          ]
        }
      ],
      "source": [
        "new_header = klausur_df.iloc[0]  # Grab the first row for the header\n",
        "klausur_df = klausur_df[1:]  # Take the data less the header row\n",
        "klausur_df.columns = new_header  # Set the header row as the df header\n",
        "\n",
        "# Step 2: Optionally, reset the index of the DataFrame\n",
        "klausur_df.reset_index(drop=True, inplace=True)\n",
        "klausur_df.rename(columns={'Last 4 digits': 'ID'}, inplace=True)"
      ]
    },
    {
      "cell_type": "code",
      "execution_count": null,
      "metadata": {
        "colab": {
          "base_uri": "https://localhost:8080/",
          "height": 1000
        },
        "id": "QAhYJySf8VN3",
        "outputId": "a56e25b0-8823-4d9e-d7e5-1eba6f4f5638"
      },
      "outputs": [
        {
          "ename": "",
          "evalue": "",
          "output_type": "error",
          "traceback": [
            "\u001b[1;31mRunning cells with 'base' requires the ipykernel package.\n",
            "\u001b[1;31mRun the following command to install 'ipykernel' into the Python environment. \n",
            "\u001b[1;31mCommand: 'conda install -n base ipykernel --update-deps --force-reinstall'"
          ]
        }
      ],
      "source": [
        "klausur_df"
      ]
    },
    {
      "cell_type": "code",
      "execution_count": null,
      "metadata": {
        "id": "e5JXQK_C8VQG"
      },
      "outputs": [
        {
          "ename": "",
          "evalue": "",
          "output_type": "error",
          "traceback": [
            "\u001b[1;31mRunning cells with 'base' requires the ipykernel package.\n",
            "\u001b[1;31mRun the following command to install 'ipykernel' into the Python environment. \n",
            "\u001b[1;31mCommand: 'conda install -n base ipykernel --update-deps --force-reinstall'"
          ]
        }
      ],
      "source": [
        "common_df = pd.merge(average_bewertung_kurztest, klausur_df, on = 'ID', how ='inner')"
      ]
    },
    {
      "cell_type": "code",
      "execution_count": null,
      "metadata": {
        "id": "FrZUWfRDA9Mr"
      },
      "outputs": [
        {
          "ename": "",
          "evalue": "",
          "output_type": "error",
          "traceback": [
            "\u001b[1;31mRunning cells with 'base' requires the ipykernel package.\n",
            "\u001b[1;31mRun the following command to install 'ipykernel' into the Python environment. \n",
            "\u001b[1;31mCommand: 'conda install -n base ipykernel --update-deps --force-reinstall'"
          ]
        }
      ],
      "source": [
        "common_df[\"Klausur %\"] = common_df[\"Klausur %\"] *100"
      ]
    },
    {
      "cell_type": "code",
      "execution_count": null,
      "metadata": {
        "id": "NdEbla0hBZYI"
      },
      "outputs": [
        {
          "ename": "",
          "evalue": "",
          "output_type": "error",
          "traceback": [
            "\u001b[1;31mRunning cells with 'base' requires the ipykernel package.\n",
            "\u001b[1;31mRun the following command to install 'ipykernel' into the Python environment. \n",
            "\u001b[1;31mCommand: 'conda install -n base ipykernel --update-deps --force-reinstall'"
          ]
        }
      ],
      "source": [
        "common_df[\"Bewertung\"] = common_df[\"Bewertung\"] *100"
      ]
    },
    {
      "cell_type": "code",
      "execution_count": null,
      "metadata": {
        "colab": {
          "base_uri": "https://localhost:8080/",
          "height": 1000
        },
        "id": "91pW_Xh3A-Yy",
        "outputId": "070aa051-d725-4d72-98a8-afba718dd784"
      },
      "outputs": [
        {
          "ename": "",
          "evalue": "",
          "output_type": "error",
          "traceback": [
            "\u001b[1;31mRunning cells with 'base' requires the ipykernel package.\n",
            "\u001b[1;31mRun the following command to install 'ipykernel' into the Python environment. \n",
            "\u001b[1;31mCommand: 'conda install -n base ipykernel --update-deps --force-reinstall'"
          ]
        }
      ],
      "source": [
        "common_df"
      ]
    },
    {
      "cell_type": "code",
      "execution_count": null,
      "metadata": {
        "id": "unJsqWVpBO9c"
      },
      "outputs": [
        {
          "ename": "",
          "evalue": "",
          "output_type": "error",
          "traceback": [
            "\u001b[1;31mRunning cells with 'base' requires the ipykernel package.\n",
            "\u001b[1;31mRun the following command to install 'ipykernel' into the Python environment. \n",
            "\u001b[1;31mCommand: 'conda install -n base ipykernel --update-deps --force-reinstall'"
          ]
        }
      ],
      "source": [
        "common_df.to_excel(\"summary_data.xlsx\", index=False, sheet_name = \"Summary\")"
      ]
    },
    {
      "cell_type": "code",
      "execution_count": null,
      "metadata": {
        "colab": {
          "base_uri": "https://localhost:8080/",
          "height": 472
        },
        "id": "oxdZMNgpB_MO",
        "outputId": "ce49c7d0-4c7c-4141-ac1c-2dcca91d7e62"
      },
      "outputs": [
        {
          "ename": "",
          "evalue": "",
          "output_type": "error",
          "traceback": [
            "\u001b[1;31mRunning cells with 'base' requires the ipykernel package.\n",
            "\u001b[1;31mRun the following command to install 'ipykernel' into the Python environment. \n",
            "\u001b[1;31mCommand: 'conda install -n base ipykernel --update-deps --force-reinstall'"
          ]
        }
      ],
      "source": [
        "plt.scatter(common_df[\"Bewertung\"], common_df[\"Klausur %\"])\n",
        "plt.title(\"Correlation between Bewertung Kurzteste und Klausur\")\n",
        "plt.xlabel('Kurztest in %')\n",
        "plt.ylabel('Klausur in %')\n",
        "plt.show()"
      ]
    },
    {
      "cell_type": "code",
      "execution_count": null,
      "metadata": {
        "colab": {
          "base_uri": "https://localhost:8080/"
        },
        "id": "ThjDK7A3EW97",
        "outputId": "cbc11611-1e74-41f1-fe49-1fb0ba4e78ec"
      },
      "outputs": [
        {
          "ename": "",
          "evalue": "",
          "output_type": "error",
          "traceback": [
            "\u001b[1;31mRunning cells with 'base' requires the ipykernel package.\n",
            "\u001b[1;31mRun the following command to install 'ipykernel' into the Python environment. \n",
            "\u001b[1;31mCommand: 'conda install -n base ipykernel --update-deps --force-reinstall'"
          ]
        }
      ],
      "source": [
        "# Check for non-numeric data and convert if necessary\n",
        "common_df['Bewertung'] = pd.to_numeric(common_df['Bewertung'], errors='coerce')\n",
        "common_df['Klausur %'] = pd.to_numeric(common_df['Klausur %'], errors='coerce')\n",
        "\n",
        "# Drop NaN values from the DataFrame to avoid errors in correlation calculation\n",
        "common_df = common_df.dropna(subset=['Bewertung', 'Klausur %'])\n",
        "\n",
        "# Now, try calculating the correlation again\n",
        "pearson_corr = common_df['Bewertung'].corr(common_df['Klausur %'], method='pearson')\n",
        "print(f'Pearson correlation: {pearson_corr}')\n",
        "\n",
        "spearman_corr = common_df['Bewertung'].corr(common_df['Klausur %'], method='spearman')\n",
        "print(f'Spearman correlation: {spearman_corr}')\n"
      ]
    },
    {
      "cell_type": "code",
      "execution_count": null,
      "metadata": {
        "colab": {
          "base_uri": "https://localhost:8080/",
          "height": 540
        },
        "id": "--bXlb9zD2GZ",
        "outputId": "a1eab087-2737-42f3-e0fa-a928ed0eaf1f"
      },
      "outputs": [
        {
          "ename": "",
          "evalue": "",
          "output_type": "error",
          "traceback": [
            "\u001b[1;31mRunning cells with 'base' requires the ipykernel package.\n",
            "\u001b[1;31mRun the following command to install 'ipykernel' into the Python environment. \n",
            "\u001b[1;31mCommand: 'conda install -n base ipykernel --update-deps --force-reinstall'"
          ]
        }
      ],
      "source": [
        "coefficients = np.polyfit(common_df[\"Bewertung\"], common_df[\"Klausur %\"], 1)\n",
        "\n",
        "# The coefficients are in the form of [slope, intercept]\n",
        "slope, intercept = coefficients\n",
        "\n",
        "# Calculate the best fit line's y values\n",
        "y_fit = slope * common_df[\"Bewertung\"] + intercept\n",
        "\n",
        "# Plotting the scatter plot\n",
        "plt.scatter(common_df[\"Bewertung\"], common_df[\"Klausur %\"], color='blue', label='Data Points')\n",
        "\n",
        "# Plotting the linear fit line\n",
        "plt.plot(common_df[\"Bewertung\"], y_fit, color='red', label='Fitted Line')\n",
        "pearson_corr = common_df['Bewertung'].corr(common_df['Klausur %'], method='pearson')\n",
        "print(f'Pearson correlation: {pearson_corr}')\n",
        "\n",
        "spearman_corr = common_df['Bewertung'].corr(common_df['Klausur %'], method='spearman')\n",
        "print(f'Spearman correlation: {spearman_corr}')\n",
        "\n",
        "xlim = plt.xlim()\n",
        "ylim = plt.ylim()\n",
        "\n",
        "text_position_x = xlim[1] * 0.95  # 95% from the left\n",
        "text_position_y = ylim[0] + (ylim[1] - ylim[0]) * 0.05  # 5% above the bottom\n",
        "\n",
        "# Print correlation values on the plot\n",
        "plt.text(text_position_x, text_position_y, f'Pearson: {pearson_corr:.2f}\\nSpearman: {spearman_corr:.2f}', fontsize=12, horizontalalignment='right', verticalalignment='bottom')\n",
        "plt.xlabel('Kurztests in %')\n",
        "plt.ylabel('Klausur in %')\n",
        "plt.title('Korrelation zwischen Bewertung Kurzteste und Klausur mit linearem Fit')\n",
        "plt.legend()\n",
        "pearson_corr = common_df['Bewertung'].corr(common_df['Klausur %'], method='pearson')\n",
        "print(f'Pearson correlation: {pearson_corr}')\n",
        "\n",
        "spearman_corr = common_df['Bewertung'].corr(common_df['Klausur %'], method='spearman')\n",
        "print(f'Spearman correlation: {spearman_corr}')\n",
        "plt.show()"
      ]
    },
    {
      "cell_type": "code",
      "execution_count": null,
      "metadata": {
        "colab": {
          "base_uri": "https://localhost:8080/",
          "height": 1000
        },
        "id": "Ia8i4-y6EgGN",
        "outputId": "c44064c0-0fba-4f51-ed17-a0b3a4679e78"
      },
      "outputs": [
        {
          "ename": "",
          "evalue": "",
          "output_type": "error",
          "traceback": [
            "\u001b[1;31mRunning cells with 'base' requires the ipykernel package.\n",
            "\u001b[1;31mRun the following command to install 'ipykernel' into the Python environment. \n",
            "\u001b[1;31mCommand: 'conda install -n base ipykernel --update-deps --force-reinstall'"
          ]
        }
      ],
      "source": [
        "common_df"
      ]
    },
    {
      "cell_type": "code",
      "execution_count": null,
      "metadata": {
        "id": "0BTQkhasDWsv"
      },
      "outputs": [
        {
          "ename": "",
          "evalue": "",
          "output_type": "error",
          "traceback": [
            "\u001b[1;31mRunning cells with 'base' requires the ipykernel package.\n",
            "\u001b[1;31mRun the following command to install 'ipykernel' into the Python environment. \n",
            "\u001b[1;31mCommand: 'conda install -n base ipykernel --update-deps --force-reinstall'"
          ]
        }
      ],
      "source": []
    },
    {
      "cell_type": "code",
      "execution_count": null,
      "metadata": {
        "colab": {
          "base_uri": "https://localhost:8080/",
          "height": 203
        },
        "id": "FbZN1wm_Dbny",
        "outputId": "9814bb2c-fb0b-4aac-dfd4-ef8502cf71ff"
      },
      "outputs": [
        {
          "ename": "",
          "evalue": "",
          "output_type": "error",
          "traceback": [
            "\u001b[1;31mRunning cells with 'base' requires the ipykernel package.\n",
            "\u001b[1;31mRun the following command to install 'ipykernel' into the Python environment. \n",
            "\u001b[1;31mCommand: 'conda install -n base ipykernel --update-deps --force-reinstall'"
          ]
        }
      ],
      "source": [
        "type(common_df)"
      ]
    },
    {
      "cell_type": "code",
      "execution_count": null,
      "metadata": {
        "id": "VJIuJ0h8Dc__"
      },
      "outputs": [
        {
          "ename": "",
          "evalue": "",
          "output_type": "error",
          "traceback": [
            "\u001b[1;31mRunning cells with 'base' requires the ipykernel package.\n",
            "\u001b[1;31mRun the following command to install 'ipykernel' into the Python environment. \n",
            "\u001b[1;31mCommand: 'conda install -n base ipykernel --update-deps --force-reinstall'"
          ]
        }
      ],
      "source": [
        "common_df_filtered = common_df[common_df['Klausur %'] >= 50]"
      ]
    },
    {
      "cell_type": "code",
      "execution_count": null,
      "metadata": {
        "colab": {
          "base_uri": "https://localhost:8080/",
          "height": 1000
        },
        "id": "Fss_XiDYFuF3",
        "outputId": "0968102c-fdf0-4615-9b76-d77f4a40b1f7"
      },
      "outputs": [
        {
          "ename": "",
          "evalue": "",
          "output_type": "error",
          "traceback": [
            "\u001b[1;31mRunning cells with 'base' requires the ipykernel package.\n",
            "\u001b[1;31mRun the following command to install 'ipykernel' into the Python environment. \n",
            "\u001b[1;31mCommand: 'conda install -n base ipykernel --update-deps --force-reinstall'"
          ]
        }
      ],
      "source": [
        "common_df_filtered"
      ]
    },
    {
      "cell_type": "code",
      "execution_count": null,
      "metadata": {
        "colab": {
          "base_uri": "https://localhost:8080/",
          "height": 297
        },
        "id": "B9Y7jaVoFu4t",
        "outputId": "815ab3dc-9ad8-4bf4-edf3-bb30ecc56270"
      },
      "outputs": [
        {
          "ename": "",
          "evalue": "",
          "output_type": "error",
          "traceback": [
            "\u001b[1;31mRunning cells with 'base' requires the ipykernel package.\n",
            "\u001b[1;31mRun the following command to install 'ipykernel' into the Python environment. \n",
            "\u001b[1;31mCommand: 'conda install -n base ipykernel --update-deps --force-reinstall'"
          ]
        }
      ],
      "source": [
        "common_df_filtered.describe()"
      ]
    },
    {
      "cell_type": "code",
      "execution_count": null,
      "metadata": {
        "colab": {
          "base_uri": "https://localhost:8080/",
          "height": 523
        },
        "id": "6D4t0GLzFu76",
        "outputId": "e4ea01f1-4df9-42da-ec66-73d2659818c4"
      },
      "outputs": [
        {
          "ename": "",
          "evalue": "",
          "output_type": "error",
          "traceback": [
            "\u001b[1;31mRunning cells with 'base' requires the ipykernel package.\n",
            "\u001b[1;31mRun the following command to install 'ipykernel' into the Python environment. \n",
            "\u001b[1;31mCommand: 'conda install -n base ipykernel --update-deps --force-reinstall'"
          ]
        }
      ],
      "source": [
        "coefficients = np.polyfit(common_df_filtered[\"Bewertung\"], common_df_filtered[\"Klausur %\"], 1)\n",
        "\n",
        "# The coefficients are in the form of [slope, intercept]\n",
        "slope, intercept = coefficients\n",
        "\n",
        "# Calculate the best fit line's y values\n",
        "y_fit = slope * common_df_filtered[\"Bewertung\"] + intercept\n",
        "\n",
        "# Plotting the scatter plot\n",
        "plt.scatter(common_df_filtered[\"Bewertung\"], common_df_filtered[\"Klausur %\"], color='blue', label='Data Points')\n",
        "\n",
        "# Plotting the linear fit line\n",
        "plt.plot(common_df_filtered[\"Bewertung\"], y_fit, color='red', label='Fitted Line')\n",
        "\n",
        "plt.xlabel('Kurztests in %')\n",
        "plt.ylabel('Klausur in %')\n",
        "plt.title('Korrelation zwischen Bewertung Kurzteste und Klausur mit linearem Fit nur bestanden')\n",
        "plt.legend()\n",
        "pearson_corr = common_df_filtered['Bewertung'].corr(common_df_filtered['Klausur %'], method='pearson')\n",
        "print(f'Pearson correlation: {pearson_corr}')\n",
        "\n",
        "spearman_corr = common_df_filtered['Bewertung'].corr(common_df_filtered['Klausur %'], method='spearman')\n",
        "print(f'Spearman correlation: {spearman_corr}')\n",
        "\n",
        "xlim = plt.xlim()\n",
        "ylim = plt.ylim()\n",
        "\n",
        "text_position_x = xlim[1] * 0.95  # 95% from the left\n",
        "text_position_y = ylim[0] + (ylim[1] - ylim[0]) * 0.05  # 5% above the bottom\n",
        "\n",
        "# Print correlation values on the plot\n",
        "plt.text(text_position_x, text_position_y, f'Pearson: {pearson_corr:.2f}\\nSpearman: {spearman_corr:.2f}', fontsize=12, horizontalalignment='right', verticalalignment='bottom')\n",
        "#plt.text(text_position_x, text_position_y, f'Pearson: {pearson_corr:.2f}\\nSpearman: {spearman_corr:.2f}', fontsize=12)\n",
        "\n",
        "plt.show()\n",
        "plt.savefig(\"corr_bestanden.png\")"
      ]
    },
    {
      "cell_type": "code",
      "execution_count": null,
      "metadata": {
        "id": "V0VWyppAFu-B"
      },
      "outputs": [
        {
          "ename": "",
          "evalue": "",
          "output_type": "error",
          "traceback": [
            "\u001b[1;31mRunning cells with 'base' requires the ipykernel package.\n",
            "\u001b[1;31mRun the following command to install 'ipykernel' into the Python environment. \n",
            "\u001b[1;31mCommand: 'conda install -n base ipykernel --update-deps --force-reinstall'"
          ]
        }
      ],
      "source": []
    }
  ],
  "metadata": {
    "colab": {
      "provenance": []
    },
    "kernelspec": {
      "display_name": "Python 3",
      "name": "python3"
    },
    "language_info": {
      "name": "python",
      "version": "3.10.12"
    }
  },
  "nbformat": 4,
  "nbformat_minor": 0
}
