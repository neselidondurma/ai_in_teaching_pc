{
 "cells": [
  {
   "cell_type": "code",
   "execution_count": 1,
   "metadata": {},
   "outputs": [
    {
     "name": "stderr",
     "output_type": "stream",
     "text": [
      "/opt/homebrew/Caskroom/mambaforge/base/envs/hertel_pc/lib/python3.12/site-packages/tqdm/auto.py:21: TqdmWarning: IProgress not found. Please update jupyter and ipywidgets. See https://ipywidgets.readthedocs.io/en/stable/user_install.html\n",
      "  from .autonotebook import tqdm as notebook_tqdm\n"
     ]
    }
   ],
   "source": [
    "import torch\n",
    "from peft import PeftModel\n",
    "from transformers import AutoTokenizer, AutoModelForCausalLM, BitsAndBytesConfig, pipeline\n",
    "import dotenv\n",
    "import os \n",
    "import accelerate"
   ]
  },
  {
   "cell_type": "markdown",
   "metadata": {},
   "source": [
    "import pandas as pd\n",
    "import json\n",
    "import pyarrow as pa\n",
    "import pyarrow.dataset as ds\n",
    "from datasets import Dataset\n"
   ]
  },
  {
   "cell_type": "markdown",
   "metadata": {},
   "source": [
    "model_name = \"serlikopar/Enlighten_Instruct\""
   ]
  },
  {
   "cell_type": "code",
   "execution_count": 2,
   "metadata": {},
   "outputs": [
    {
     "data": {
      "text/plain": [
       "True"
      ]
     },
     "execution_count": 2,
     "metadata": {},
     "output_type": "execute_result"
    }
   ],
   "source": [
    "dotenv.load_dotenv(\"hugging_face.env\")"
   ]
  },
  {
   "cell_type": "code",
   "execution_count": 3,
   "metadata": {},
   "outputs": [
    {
     "name": "stdout",
     "output_type": "stream",
     "text": [
      "The token has not been saved to the git credentials helper. Pass `add_to_git_credential=True` in this function directly or `--add-to-git-credential` if using via `huggingface-cli` if you want to set the git credential as well.\n",
      "Token is valid (permission: write).\n",
      "Your token has been saved to /Users/serlink/.cache/huggingface/token\n",
      "Login successful\n"
     ]
    }
   ],
   "source": [
    "secret_hf = os.getenv('HUGGINGFACE_TOKEN')\n",
    "!huggingface-cli login --token $secret_hf"
   ]
  },
  {
   "cell_type": "code",
   "execution_count": 5,
   "metadata": {},
   "outputs": [
    {
     "data": {
      "text/plain": [
       "('<s>', '</s>')"
      ]
     },
     "execution_count": 5,
     "metadata": {},
     "output_type": "execute_result"
    }
   ],
   "source": [
    "tokenizer = AutoTokenizer.from_pretrained(base_model, trust_remote_code=True)\n",
    "tokenizer.padding_side = 'right'\n",
    "tokenizer.pad_token = tokenizer.eos_token\n",
    "tokenizer.add_eos_token = True\n",
    "tokenizer.bos_token, tokenizer.eos_token"
   ]
  },
  {
   "cell_type": "markdown",
   "metadata": {},
   "source": [
    "tokenizer = AutoTokenizer.from_pretrained(model_name)\n",
    "model = AutoModelForSequenceClassification.from_pretrained(model_name)"
   ]
  },
  {
   "cell_type": "code",
   "execution_count": 6,
   "metadata": {},
   "outputs": [
    {
     "name": "stderr",
     "output_type": "stream",
     "text": [
      "Loading checkpoint shards: 100%|██████████| 3/3 [00:11<00:00,  3.75s/it]\n",
      "The model 'PeftModelForCausalLM' is not supported for text-generation. Supported models are ['BartForCausalLM', 'BertLMHeadModel', 'BertGenerationDecoder', 'BigBirdForCausalLM', 'BigBirdPegasusForCausalLM', 'BioGptForCausalLM', 'BlenderbotForCausalLM', 'BlenderbotSmallForCausalLM', 'BloomForCausalLM', 'CamembertForCausalLM', 'LlamaForCausalLM', 'CodeGenForCausalLM', 'CohereForCausalLM', 'CpmAntForCausalLM', 'CTRLLMHeadModel', 'Data2VecTextForCausalLM', 'DbrxForCausalLM', 'ElectraForCausalLM', 'ErnieForCausalLM', 'FalconForCausalLM', 'FuyuForCausalLM', 'GemmaForCausalLM', 'GitForCausalLM', 'GPT2LMHeadModel', 'GPT2LMHeadModel', 'GPTBigCodeForCausalLM', 'GPTNeoForCausalLM', 'GPTNeoXForCausalLM', 'GPTNeoXJapaneseForCausalLM', 'GPTJForCausalLM', 'JambaForCausalLM', 'JetMoeForCausalLM', 'LlamaForCausalLM', 'MambaForCausalLM', 'MarianForCausalLM', 'MBartForCausalLM', 'MegaForCausalLM', 'MegatronBertForCausalLM', 'MistralForCausalLM', 'MixtralForCausalLM', 'MptForCausalLM', 'MusicgenForCausalLM', 'MusicgenMelodyForCausalLM', 'MvpForCausalLM', 'OlmoForCausalLM', 'OpenLlamaForCausalLM', 'OpenAIGPTLMHeadModel', 'OPTForCausalLM', 'PegasusForCausalLM', 'PersimmonForCausalLM', 'PhiForCausalLM', 'Phi3ForCausalLM', 'PLBartForCausalLM', 'ProphetNetForCausalLM', 'QDQBertLMHeadModel', 'Qwen2ForCausalLM', 'Qwen2MoeForCausalLM', 'RecurrentGemmaForCausalLM', 'ReformerModelWithLMHead', 'RemBertForCausalLM', 'RobertaForCausalLM', 'RobertaPreLayerNormForCausalLM', 'RoCBertForCausalLM', 'RoFormerForCausalLM', 'RwkvForCausalLM', 'Speech2Text2ForCausalLM', 'StableLmForCausalLM', 'Starcoder2ForCausalLM', 'TransfoXLLMHeadModel', 'TrOCRForCausalLM', 'WhisperForCausalLM', 'XGLMForCausalLM', 'XLMWithLMHeadModel', 'XLMProphetNetForCausalLM', 'XLMRobertaForCausalLM', 'XLMRobertaXLForCausalLM', 'XLNetLMHeadModel', 'XmodForCausalLM'].\n"
     ]
    }
   ],
   "source": [
    "base_model = \"mistralai/Mistral-7B-Instruct-v0.2\"\n",
    "new_model = \"serlikopar/Enlighten_Instruct\"\n",
    "base_model_reload = AutoModelForCausalLM.from_pretrained(\n",
    "        base_model,\n",
    "        torch_dtype=torch.bfloat16,\n",
    "        return_dict=True,\n",
    "        low_cpu_mem_usage=True,\n",
    "        device_map=\"auto\",\n",
    "        trust_remote_code=True,\n",
    ")\n",
    "model = PeftModel.from_pretrained(base_model_reload, new_model)\n",
    "pipe = pipeline(task=\"text-generation\", model=model, tokenizer=tokenizer, max_length=200)"
   ]
  },
  {
   "cell_type": "code",
   "execution_count": 7,
   "metadata": {},
   "outputs": [],
   "source": [
    "import pandas as pd\n",
    "import json\n",
    "\n",
    "def make_df_from_jsonl(file_path):\n",
    "    questions = []\n",
    "    answers = []\n",
    "\n",
    "    with open(file_path, 'r', encoding='utf-8') as file:\n",
    "        for line_number, line in enumerate(file, start=1):\n",
    "            try:\n",
    "                json_data = json.loads(line)\n",
    "                # Extract messages\n",
    "                messages = json_data['messages']\n",
    "                # Initialize placeholders for user and assistant messages\n",
    "                question = next((msg['content'] for msg in messages if msg['role'] == 'user'), None)\n",
    "                answer = next((msg['content'] for msg in messages if msg['role'] == 'assistant'), None)\n",
    "                \n",
    "                # Only append if both question and answer are found\n",
    "                if question and answer:\n",
    "                    questions.append(question.replace('\\\\n', '\\n'))\n",
    "                    answers.append(answer.replace('\\\\n', '\\n'))\n",
    "                \n",
    "            except json.JSONDecodeError as e:\n",
    "                print(f\"Error parsing JSON on line {line_number}: {e}\")\n",
    "                continue\n",
    "\n",
    "    # Create DataFrame with specific columns\n",
    "    df = pd.DataFrame({'Question': questions, 'Answer': answers})\n",
    "    \n",
    "    return df\n",
    "\n",
    "\n"
   ]
  },
  {
   "cell_type": "code",
   "execution_count": 29,
   "metadata": {},
   "outputs": [],
   "source": [
    "file_path = 'test_samples.jsonl'\n",
    "df = make_df_from_jsonl(file_path)"
   ]
  },
  {
   "cell_type": "code",
   "execution_count": 30,
   "metadata": {},
   "outputs": [
    {
     "data": {
      "text/html": [
       "<div>\n",
       "<style scoped>\n",
       "    .dataframe tbody tr th:only-of-type {\n",
       "        vertical-align: middle;\n",
       "    }\n",
       "\n",
       "    .dataframe tbody tr th {\n",
       "        vertical-align: top;\n",
       "    }\n",
       "\n",
       "    .dataframe thead th {\n",
       "        text-align: right;\n",
       "    }\n",
       "</style>\n",
       "<table border=\"1\" class=\"dataframe\">\n",
       "  <thead>\n",
       "    <tr style=\"text-align: right;\">\n",
       "      <th></th>\n",
       "      <th>Question</th>\n",
       "      <th>Answer</th>\n",
       "    </tr>\n",
       "  </thead>\n",
       "  <tbody>\n",
       "    <tr>\n",
       "      <th>0</th>\n",
       "      <td>Was besagt die Zustandsgleichung des idealen G...</td>\n",
       "      <td>Die Zustandsgleichung des idealen Gases lautet...</td>\n",
       "    </tr>\n",
       "    <tr>\n",
       "      <th>1</th>\n",
       "      <td>Was ist ein ideales Gas?</td>\n",
       "      <td>Ein ideales Gas entspricht einer Modellvorstel...</td>\n",
       "    </tr>\n",
       "    <tr>\n",
       "      <th>2</th>\n",
       "      <td>Was besagt der Nullte Hauptsatz der Thermodyna...</td>\n",
       "      <td>Der Nullte Hauptsatz der Thermodynamik besagt,...</td>\n",
       "    </tr>\n",
       "    <tr>\n",
       "      <th>3</th>\n",
       "      <td>Was ist der Partialdruck?</td>\n",
       "      <td>Der Partialdruck einer Komponente in einem Gas...</td>\n",
       "    </tr>\n",
       "    <tr>\n",
       "      <th>4</th>\n",
       "      <td>Wie lautet das Amontonssche Gesetz?</td>\n",
       "      <td>Das Amontonssche Gesetz besagt, dass der Druck...</td>\n",
       "    </tr>\n",
       "    <tr>\n",
       "      <th>...</th>\n",
       "      <td>...</td>\n",
       "      <td>...</td>\n",
       "    </tr>\n",
       "    <tr>\n",
       "      <th>57</th>\n",
       "      <td>Warum wird die molare Wärmekapazität in J/(mol...</td>\n",
       "      <td>Die molare Wärmekapazität wird in J/(mol·K) an...</td>\n",
       "    </tr>\n",
       "    <tr>\n",
       "      <th>58</th>\n",
       "      <td>Warum ist die kinetische Energie der Gasteilch...</td>\n",
       "      <td>Die kinetische Energie der Gasteilchen ist tem...</td>\n",
       "    </tr>\n",
       "    <tr>\n",
       "      <th>59</th>\n",
       "      <td>Warum beschreibt die van-der-Waals-Gleichung r...</td>\n",
       "      <td>Die van-der-Waals-Gleichung beschreibt reale G...</td>\n",
       "    </tr>\n",
       "    <tr>\n",
       "      <th>60</th>\n",
       "      <td>Warum erhöht sich der Druck eines Gases, wenn ...</td>\n",
       "      <td>Der Druck eines Gases erhöht sich, wenn mehr M...</td>\n",
       "    </tr>\n",
       "    <tr>\n",
       "      <th>61</th>\n",
       "      <td>Warum ist die spezifische Wärmekapazität wicht...</td>\n",
       "      <td>Die spezifische Wärmekapazität ist wichtig für...</td>\n",
       "    </tr>\n",
       "  </tbody>\n",
       "</table>\n",
       "<p>62 rows × 2 columns</p>\n",
       "</div>"
      ],
      "text/plain": [
       "                                             Question  \\\n",
       "0   Was besagt die Zustandsgleichung des idealen G...   \n",
       "1                            Was ist ein ideales Gas?   \n",
       "2   Was besagt der Nullte Hauptsatz der Thermodyna...   \n",
       "3                           Was ist der Partialdruck?   \n",
       "4                 Wie lautet das Amontonssche Gesetz?   \n",
       "..                                                ...   \n",
       "57  Warum wird die molare Wärmekapazität in J/(mol...   \n",
       "58  Warum ist die kinetische Energie der Gasteilch...   \n",
       "59  Warum beschreibt die van-der-Waals-Gleichung r...   \n",
       "60  Warum erhöht sich der Druck eines Gases, wenn ...   \n",
       "61  Warum ist die spezifische Wärmekapazität wicht...   \n",
       "\n",
       "                                               Answer  \n",
       "0   Die Zustandsgleichung des idealen Gases lautet...  \n",
       "1   Ein ideales Gas entspricht einer Modellvorstel...  \n",
       "2   Der Nullte Hauptsatz der Thermodynamik besagt,...  \n",
       "3   Der Partialdruck einer Komponente in einem Gas...  \n",
       "4   Das Amontonssche Gesetz besagt, dass der Druck...  \n",
       "..                                                ...  \n",
       "57  Die molare Wärmekapazität wird in J/(mol·K) an...  \n",
       "58  Die kinetische Energie der Gasteilchen ist tem...  \n",
       "59  Die van-der-Waals-Gleichung beschreibt reale G...  \n",
       "60  Der Druck eines Gases erhöht sich, wenn mehr M...  \n",
       "61  Die spezifische Wärmekapazität ist wichtig für...  \n",
       "\n",
       "[62 rows x 2 columns]"
      ]
     },
     "execution_count": 30,
     "metadata": {},
     "output_type": "execute_result"
    }
   ],
   "source": [
    "df"
   ]
  },
  {
   "cell_type": "code",
   "execution_count": 31,
   "metadata": {},
   "outputs": [
    {
     "data": {
      "text/html": [
       "<div>\n",
       "<style scoped>\n",
       "    .dataframe tbody tr th:only-of-type {\n",
       "        vertical-align: middle;\n",
       "    }\n",
       "\n",
       "    .dataframe tbody tr th {\n",
       "        vertical-align: top;\n",
       "    }\n",
       "\n",
       "    .dataframe thead th {\n",
       "        text-align: right;\n",
       "    }\n",
       "</style>\n",
       "<table border=\"1\" class=\"dataframe\">\n",
       "  <thead>\n",
       "    <tr style=\"text-align: right;\">\n",
       "      <th></th>\n",
       "      <th>Question</th>\n",
       "      <th>Answer</th>\n",
       "    </tr>\n",
       "  </thead>\n",
       "  <tbody>\n",
       "    <tr>\n",
       "      <th>0</th>\n",
       "      <td>Was besagt die Zustandsgleichung des idealen G...</td>\n",
       "      <td>Die Zustandsgleichung des idealen Gases lautet...</td>\n",
       "    </tr>\n",
       "    <tr>\n",
       "      <th>1</th>\n",
       "      <td>Was ist ein ideales Gas?</td>\n",
       "      <td>Ein ideales Gas entspricht einer Modellvorstel...</td>\n",
       "    </tr>\n",
       "    <tr>\n",
       "      <th>2</th>\n",
       "      <td>Was besagt der Nullte Hauptsatz der Thermodyna...</td>\n",
       "      <td>Der Nullte Hauptsatz der Thermodynamik besagt,...</td>\n",
       "    </tr>\n",
       "    <tr>\n",
       "      <th>3</th>\n",
       "      <td>Was ist der Partialdruck?</td>\n",
       "      <td>Der Partialdruck einer Komponente in einem Gas...</td>\n",
       "    </tr>\n",
       "    <tr>\n",
       "      <th>4</th>\n",
       "      <td>Wie lautet das Amontonssche Gesetz?</td>\n",
       "      <td>Das Amontonssche Gesetz besagt, dass der Druck...</td>\n",
       "    </tr>\n",
       "  </tbody>\n",
       "</table>\n",
       "</div>"
      ],
      "text/plain": [
       "                                            Question  \\\n",
       "0  Was besagt die Zustandsgleichung des idealen G...   \n",
       "1                           Was ist ein ideales Gas?   \n",
       "2  Was besagt der Nullte Hauptsatz der Thermodyna...   \n",
       "3                          Was ist der Partialdruck?   \n",
       "4                Wie lautet das Amontonssche Gesetz?   \n",
       "\n",
       "                                              Answer  \n",
       "0  Die Zustandsgleichung des idealen Gases lautet...  \n",
       "1  Ein ideales Gas entspricht einer Modellvorstel...  \n",
       "2  Der Nullte Hauptsatz der Thermodynamik besagt,...  \n",
       "3  Der Partialdruck einer Komponente in einem Gas...  \n",
       "4  Das Amontonssche Gesetz besagt, dass der Druck...  "
      ]
     },
     "execution_count": 31,
     "metadata": {},
     "output_type": "execute_result"
    }
   ],
   "source": [
    "df.head()"
   ]
  },
  {
   "cell_type": "code",
   "execution_count": 32,
   "metadata": {},
   "outputs": [
    {
     "data": {
      "text/plain": [
       "Index(['Question', 'Answer'], dtype='object')"
      ]
     },
     "execution_count": 32,
     "metadata": {},
     "output_type": "execute_result"
    }
   ],
   "source": [
    "df.columns"
   ]
  },
  {
   "cell_type": "code",
   "execution_count": 33,
   "metadata": {},
   "outputs": [],
   "source": [
    "df.to_csv(\"test_data_62_questions_with_formatting.csv\", index=False)"
   ]
  },
  {
   "cell_type": "code",
   "execution_count": 34,
   "metadata": {},
   "outputs": [],
   "source": [
    "df['text'] = '<s>[INST]' + df['Question'] +'[/INST]'+ df['Answer'] + '</s>'\n",
    "\n"
   ]
  },
  {
   "cell_type": "code",
   "execution_count": 35,
   "metadata": {},
   "outputs": [
    {
     "data": {
      "text/html": [
       "<div>\n",
       "<style scoped>\n",
       "    .dataframe tbody tr th:only-of-type {\n",
       "        vertical-align: middle;\n",
       "    }\n",
       "\n",
       "    .dataframe tbody tr th {\n",
       "        vertical-align: top;\n",
       "    }\n",
       "\n",
       "    .dataframe thead th {\n",
       "        text-align: right;\n",
       "    }\n",
       "</style>\n",
       "<table border=\"1\" class=\"dataframe\">\n",
       "  <thead>\n",
       "    <tr style=\"text-align: right;\">\n",
       "      <th></th>\n",
       "      <th>Question</th>\n",
       "      <th>Answer</th>\n",
       "      <th>text</th>\n",
       "    </tr>\n",
       "  </thead>\n",
       "  <tbody>\n",
       "    <tr>\n",
       "      <th>0</th>\n",
       "      <td>Was besagt die Zustandsgleichung des idealen G...</td>\n",
       "      <td>Die Zustandsgleichung des idealen Gases lautet...</td>\n",
       "      <td>&lt;s&gt;[INST]Was besagt die Zustandsgleichung des ...</td>\n",
       "    </tr>\n",
       "    <tr>\n",
       "      <th>1</th>\n",
       "      <td>Was ist ein ideales Gas?</td>\n",
       "      <td>Ein ideales Gas entspricht einer Modellvorstel...</td>\n",
       "      <td>&lt;s&gt;[INST]Was ist ein ideales Gas?[/INST]Ein id...</td>\n",
       "    </tr>\n",
       "    <tr>\n",
       "      <th>2</th>\n",
       "      <td>Was besagt der Nullte Hauptsatz der Thermodyna...</td>\n",
       "      <td>Der Nullte Hauptsatz der Thermodynamik besagt,...</td>\n",
       "      <td>&lt;s&gt;[INST]Was besagt der Nullte Hauptsatz der T...</td>\n",
       "    </tr>\n",
       "    <tr>\n",
       "      <th>3</th>\n",
       "      <td>Was ist der Partialdruck?</td>\n",
       "      <td>Der Partialdruck einer Komponente in einem Gas...</td>\n",
       "      <td>&lt;s&gt;[INST]Was ist der Partialdruck?[/INST]Der P...</td>\n",
       "    </tr>\n",
       "    <tr>\n",
       "      <th>4</th>\n",
       "      <td>Wie lautet das Amontonssche Gesetz?</td>\n",
       "      <td>Das Amontonssche Gesetz besagt, dass der Druck...</td>\n",
       "      <td>&lt;s&gt;[INST]Wie lautet das Amontonssche Gesetz?[/...</td>\n",
       "    </tr>\n",
       "    <tr>\n",
       "      <th>...</th>\n",
       "      <td>...</td>\n",
       "      <td>...</td>\n",
       "      <td>...</td>\n",
       "    </tr>\n",
       "    <tr>\n",
       "      <th>57</th>\n",
       "      <td>Warum wird die molare Wärmekapazität in J/(mol...</td>\n",
       "      <td>Die molare Wärmekapazität wird in J/(mol·K) an...</td>\n",
       "      <td>&lt;s&gt;[INST]Warum wird die molare Wärmekapazität ...</td>\n",
       "    </tr>\n",
       "    <tr>\n",
       "      <th>58</th>\n",
       "      <td>Warum ist die kinetische Energie der Gasteilch...</td>\n",
       "      <td>Die kinetische Energie der Gasteilchen ist tem...</td>\n",
       "      <td>&lt;s&gt;[INST]Warum ist die kinetische Energie der ...</td>\n",
       "    </tr>\n",
       "    <tr>\n",
       "      <th>59</th>\n",
       "      <td>Warum beschreibt die van-der-Waals-Gleichung r...</td>\n",
       "      <td>Die van-der-Waals-Gleichung beschreibt reale G...</td>\n",
       "      <td>&lt;s&gt;[INST]Warum beschreibt die van-der-Waals-Gl...</td>\n",
       "    </tr>\n",
       "    <tr>\n",
       "      <th>60</th>\n",
       "      <td>Warum erhöht sich der Druck eines Gases, wenn ...</td>\n",
       "      <td>Der Druck eines Gases erhöht sich, wenn mehr M...</td>\n",
       "      <td>&lt;s&gt;[INST]Warum erhöht sich der Druck eines Gas...</td>\n",
       "    </tr>\n",
       "    <tr>\n",
       "      <th>61</th>\n",
       "      <td>Warum ist die spezifische Wärmekapazität wicht...</td>\n",
       "      <td>Die spezifische Wärmekapazität ist wichtig für...</td>\n",
       "      <td>&lt;s&gt;[INST]Warum ist die spezifische Wärmekapazi...</td>\n",
       "    </tr>\n",
       "  </tbody>\n",
       "</table>\n",
       "<p>62 rows × 3 columns</p>\n",
       "</div>"
      ],
      "text/plain": [
       "                                             Question  \\\n",
       "0   Was besagt die Zustandsgleichung des idealen G...   \n",
       "1                            Was ist ein ideales Gas?   \n",
       "2   Was besagt der Nullte Hauptsatz der Thermodyna...   \n",
       "3                           Was ist der Partialdruck?   \n",
       "4                 Wie lautet das Amontonssche Gesetz?   \n",
       "..                                                ...   \n",
       "57  Warum wird die molare Wärmekapazität in J/(mol...   \n",
       "58  Warum ist die kinetische Energie der Gasteilch...   \n",
       "59  Warum beschreibt die van-der-Waals-Gleichung r...   \n",
       "60  Warum erhöht sich der Druck eines Gases, wenn ...   \n",
       "61  Warum ist die spezifische Wärmekapazität wicht...   \n",
       "\n",
       "                                               Answer  \\\n",
       "0   Die Zustandsgleichung des idealen Gases lautet...   \n",
       "1   Ein ideales Gas entspricht einer Modellvorstel...   \n",
       "2   Der Nullte Hauptsatz der Thermodynamik besagt,...   \n",
       "3   Der Partialdruck einer Komponente in einem Gas...   \n",
       "4   Das Amontonssche Gesetz besagt, dass der Druck...   \n",
       "..                                                ...   \n",
       "57  Die molare Wärmekapazität wird in J/(mol·K) an...   \n",
       "58  Die kinetische Energie der Gasteilchen ist tem...   \n",
       "59  Die van-der-Waals-Gleichung beschreibt reale G...   \n",
       "60  Der Druck eines Gases erhöht sich, wenn mehr M...   \n",
       "61  Die spezifische Wärmekapazität ist wichtig für...   \n",
       "\n",
       "                                                 text  \n",
       "0   <s>[INST]Was besagt die Zustandsgleichung des ...  \n",
       "1   <s>[INST]Was ist ein ideales Gas?[/INST]Ein id...  \n",
       "2   <s>[INST]Was besagt der Nullte Hauptsatz der T...  \n",
       "3   <s>[INST]Was ist der Partialdruck?[/INST]Der P...  \n",
       "4   <s>[INST]Wie lautet das Amontonssche Gesetz?[/...  \n",
       "..                                                ...  \n",
       "57  <s>[INST]Warum wird die molare Wärmekapazität ...  \n",
       "58  <s>[INST]Warum ist die kinetische Energie der ...  \n",
       "59  <s>[INST]Warum beschreibt die van-der-Waals-Gl...  \n",
       "60  <s>[INST]Warum erhöht sich der Druck eines Gas...  \n",
       "61  <s>[INST]Warum ist die spezifische Wärmekapazi...  \n",
       "\n",
       "[62 rows x 3 columns]"
      ]
     },
     "execution_count": 35,
     "metadata": {},
     "output_type": "execute_result"
    }
   ],
   "source": [
    "df"
   ]
  },
  {
   "cell_type": "code",
   "execution_count": 36,
   "metadata": {},
   "outputs": [],
   "source": [
    "df2 = df[\"text\"]"
   ]
  },
  {
   "cell_type": "code",
   "execution_count": 37,
   "metadata": {},
   "outputs": [],
   "source": [
    "df2 = pd.DataFrame(df2)"
   ]
  },
  {
   "cell_type": "code",
   "execution_count": 38,
   "metadata": {},
   "outputs": [
    {
     "data": {
      "text/plain": [
       "pandas.core.frame.DataFrame"
      ]
     },
     "execution_count": 38,
     "metadata": {},
     "output_type": "execute_result"
    }
   ],
   "source": [
    "type(df2)"
   ]
  },
  {
   "cell_type": "code",
   "execution_count": 39,
   "metadata": {},
   "outputs": [
    {
     "data": {
      "text/html": [
       "<div>\n",
       "<style scoped>\n",
       "    .dataframe tbody tr th:only-of-type {\n",
       "        vertical-align: middle;\n",
       "    }\n",
       "\n",
       "    .dataframe tbody tr th {\n",
       "        vertical-align: top;\n",
       "    }\n",
       "\n",
       "    .dataframe thead th {\n",
       "        text-align: right;\n",
       "    }\n",
       "</style>\n",
       "<table border=\"1\" class=\"dataframe\">\n",
       "  <thead>\n",
       "    <tr style=\"text-align: right;\">\n",
       "      <th></th>\n",
       "      <th>text</th>\n",
       "    </tr>\n",
       "  </thead>\n",
       "  <tbody>\n",
       "    <tr>\n",
       "      <th>0</th>\n",
       "      <td>&lt;s&gt;[INST]Was besagt die Zustandsgleichung des ...</td>\n",
       "    </tr>\n",
       "    <tr>\n",
       "      <th>1</th>\n",
       "      <td>&lt;s&gt;[INST]Was ist ein ideales Gas?[/INST]Ein id...</td>\n",
       "    </tr>\n",
       "    <tr>\n",
       "      <th>2</th>\n",
       "      <td>&lt;s&gt;[INST]Was besagt der Nullte Hauptsatz der T...</td>\n",
       "    </tr>\n",
       "    <tr>\n",
       "      <th>3</th>\n",
       "      <td>&lt;s&gt;[INST]Was ist der Partialdruck?[/INST]Der P...</td>\n",
       "    </tr>\n",
       "    <tr>\n",
       "      <th>4</th>\n",
       "      <td>&lt;s&gt;[INST]Wie lautet das Amontonssche Gesetz?[/...</td>\n",
       "    </tr>\n",
       "    <tr>\n",
       "      <th>...</th>\n",
       "      <td>...</td>\n",
       "    </tr>\n",
       "    <tr>\n",
       "      <th>57</th>\n",
       "      <td>&lt;s&gt;[INST]Warum wird die molare Wärmekapazität ...</td>\n",
       "    </tr>\n",
       "    <tr>\n",
       "      <th>58</th>\n",
       "      <td>&lt;s&gt;[INST]Warum ist die kinetische Energie der ...</td>\n",
       "    </tr>\n",
       "    <tr>\n",
       "      <th>59</th>\n",
       "      <td>&lt;s&gt;[INST]Warum beschreibt die van-der-Waals-Gl...</td>\n",
       "    </tr>\n",
       "    <tr>\n",
       "      <th>60</th>\n",
       "      <td>&lt;s&gt;[INST]Warum erhöht sich der Druck eines Gas...</td>\n",
       "    </tr>\n",
       "    <tr>\n",
       "      <th>61</th>\n",
       "      <td>&lt;s&gt;[INST]Warum ist die spezifische Wärmekapazi...</td>\n",
       "    </tr>\n",
       "  </tbody>\n",
       "</table>\n",
       "<p>62 rows × 1 columns</p>\n",
       "</div>"
      ],
      "text/plain": [
       "                                                 text\n",
       "0   <s>[INST]Was besagt die Zustandsgleichung des ...\n",
       "1   <s>[INST]Was ist ein ideales Gas?[/INST]Ein id...\n",
       "2   <s>[INST]Was besagt der Nullte Hauptsatz der T...\n",
       "3   <s>[INST]Was ist der Partialdruck?[/INST]Der P...\n",
       "4   <s>[INST]Wie lautet das Amontonssche Gesetz?[/...\n",
       "..                                                ...\n",
       "57  <s>[INST]Warum wird die molare Wärmekapazität ...\n",
       "58  <s>[INST]Warum ist die kinetische Energie der ...\n",
       "59  <s>[INST]Warum beschreibt die van-der-Waals-Gl...\n",
       "60  <s>[INST]Warum erhöht sich der Druck eines Gas...\n",
       "61  <s>[INST]Warum ist die spezifische Wärmekapazi...\n",
       "\n",
       "[62 rows x 1 columns]"
      ]
     },
     "execution_count": 39,
     "metadata": {},
     "output_type": "execute_result"
    }
   ],
   "source": [
    "df2"
   ]
  },
  {
   "cell_type": "code",
   "execution_count": 40,
   "metadata": {},
   "outputs": [],
   "source": [
    "df2.to_csv(\"test_data_62_questions_one_col.csv\", index=False)"
   ]
  },
  {
   "cell_type": "code",
   "execution_count": null,
   "metadata": {},
   "outputs": [],
   "source": []
  }
 ],
 "metadata": {
  "kernelspec": {
   "display_name": "hertel_pc",
   "language": "python",
   "name": "python3"
  },
  "language_info": {
   "codemirror_mode": {
    "name": "ipython",
    "version": 3
   },
   "file_extension": ".py",
   "mimetype": "text/x-python",
   "name": "python",
   "nbconvert_exporter": "python",
   "pygments_lexer": "ipython3",
   "version": "3.12.3"
  }
 },
 "nbformat": 4,
 "nbformat_minor": 2
}
