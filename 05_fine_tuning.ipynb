{
 "cells": [
  {
   "cell_type": "code",
   "execution_count": 3,
   "metadata": {},
   "outputs": [
    {
     "name": "stderr",
     "output_type": "stream",
     "text": [
      "/opt/homebrew/Caskroom/mambaforge/base/envs/hertel_pc/lib/python3.12/site-packages/tqdm/auto.py:21: TqdmWarning: IProgress not found. Please update jupyter and ipywidgets. See https://ipywidgets.readthedocs.io/en/stable/user_install.html\n",
      "  from .autonotebook import tqdm as notebook_tqdm\n"
     ]
    }
   ],
   "source": [
    "import torch\n",
    "from transformers import AutoTokenizer, AutoModelForCausalLM, BitsAndBytesConfig\n"
   ]
  },
  {
   "cell_type": "code",
   "execution_count": 6,
   "metadata": {},
   "outputs": [],
   "source": [
    "import pandas as pd\n",
    "import json\n",
    "\n",
    "\n",
    "\n"
   ]
  },
  {
   "cell_type": "code",
   "execution_count": 8,
   "metadata": {},
   "outputs": [],
   "source": [
    "def make_df_from_jsonl(file_path):\n",
    "    # Initialize an empty list to store the parsed data\n",
    "    data = []\n",
    "    \n",
    "    # Open the file and read line by line\n",
    "    with open(file_path, 'r', encoding='utf-8') as file:\n",
    "        for line_number, line in enumerate(file, start=1):\n",
    "            try:\n",
    "                # Parse each line as a JSON object and append to the list\n",
    "                json_data = json.loads(line)\n",
    "                data.append(json_data)\n",
    "            except json.JSONDecodeError as e:\n",
    "                print(f\"Error parsing JSON on line {line_number}: {e}\")\n",
    "                continue  # Skip this line or use 'break' if you want to stop processing altogether\n",
    "    \n",
    "    # Create a DataFrame from the list of dictionaries\n",
    "    df = pd.DataFrame(data)"
   ]
  },
  {
   "cell_type": "code",
   "execution_count": 13,
   "metadata": {},
   "outputs": [
    {
     "name": "stdout",
     "output_type": "stream",
     "text": [
      "Error parsing JSON on line 35: Extra data: line 1 column 382 (char 381)\n",
      "Error parsing JSON on line 41: Extra data: line 1 column 428 (char 427)\n",
      "Error parsing JSON on line 42: Extra data: line 1 column 421 (char 420)\n",
      "Error parsing JSON on line 46: Extra data: line 1 column 424 (char 423)\n",
      "Error parsing JSON on line 58: Extra data: line 1 column 505 (char 504)\n",
      "Error parsing JSON on line 64: Extra data: line 1 column 427 (char 426)\n",
      "Error parsing JSON on line 67: Extra data: line 1 column 416 (char 415)\n",
      "Error parsing JSON on line 68: Extra data: line 1 column 419 (char 418)\n",
      "Error parsing JSON on line 80: Extra data: line 1 column 401 (char 400)\n",
      "Error parsing JSON on line 82: Extra data: line 1 column 407 (char 406)\n",
      "Error parsing JSON on line 83: Extra data: line 1 column 398 (char 397)\n",
      "Error parsing JSON on line 91: Extra data: line 1 column 418 (char 417)\n",
      "Error parsing JSON on line 92: Extra data: line 1 column 419 (char 418)\n"
     ]
    },
    {
     "ename": "AttributeError",
     "evalue": "'NoneType' object has no attribute 'head'",
     "output_type": "error",
     "traceback": [
      "\u001b[0;31m---------------------------------------------------------------------------\u001b[0m",
      "\u001b[0;31mAttributeError\u001b[0m                            Traceback (most recent call last)",
      "Cell \u001b[0;32mIn[13], line 6\u001b[0m\n\u001b[1;32m      4\u001b[0m \u001b[38;5;66;03m# Create DataFrame\u001b[39;00m\n\u001b[1;32m      5\u001b[0m df \u001b[38;5;241m=\u001b[39m make_df_from_jsonl(file_path)\n\u001b[0;32m----> 6\u001b[0m \u001b[38;5;28mprint\u001b[39m(\u001b[43mdf\u001b[49m\u001b[38;5;241;43m.\u001b[39;49m\u001b[43mhead\u001b[49m())\n",
      "\u001b[0;31mAttributeError\u001b[0m: 'NoneType' object has no attribute 'head'"
     ]
    }
   ],
   "source": [
    "# Path to your JSONL file\n",
    "file_path = 'training_samples.jsonl'\n",
    "\n",
    "# Create DataFrame\n",
    "df = make_df_from_jsonl(file_path)\n",
    "print(df.head())"
   ]
  },
  {
   "cell_type": "code",
   "execution_count": null,
   "metadata": {},
   "outputs": [],
   "source": []
  }
 ],
 "metadata": {
  "kernelspec": {
   "display_name": "hertel_pc",
   "language": "python",
   "name": "python3"
  },
  "language_info": {
   "codemirror_mode": {
    "name": "ipython",
    "version": 3
   },
   "file_extension": ".py",
   "mimetype": "text/x-python",
   "name": "python",
   "nbconvert_exporter": "python",
   "pygments_lexer": "ipython3",
   "version": "3.12.3"
  }
 },
 "nbformat": 4,
 "nbformat_minor": 2
}
