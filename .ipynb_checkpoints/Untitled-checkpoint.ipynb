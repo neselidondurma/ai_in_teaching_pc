{
 "cells": [
  {
   "cell_type": "code",
   "execution_count": 1,
   "id": "82f75350-e2af-4434-8559-fa4a75a08b19",
   "metadata": {},
   "outputs": [],
   "source": [
    "# base model from huggingFace or path to model\n",
    "base_model = \"mistralai/Mistral-7B-Instruct-v0.2\"\n",
    "new_model = \"Enlighten_Instruct\""
   ]
  },
  {
   "cell_type": "code",
   "execution_count": 2,
   "id": "d5be8a2a-73db-4e98-bf3e-4ffd7248d15e",
   "metadata": {},
   "outputs": [],
   "source": [
    "test_path='training_data_310_questions_one_col.csv'\n",
    "train_path='test_data_62_questions_one_col.csv'"
   ]
  },
  {
   "cell_type": "code",
   "execution_count": 10,
   "id": "0330ebd1-acc0-476e-875e-d52ee3220ef6",
   "metadata": {},
   "outputs": [],
   "source": [
    "%%capture\n",
    "!git clone 'https://github.com/ali7919/Enlighten-Instruct.git'\n",
    "!pip install -U bitsandbytes\n",
    "!pip install transformers==4.36.2\n",
    "!pip install -U peft\n",
    "!pip install -U accelerate\n",
    "!pip install -U trl\n",
    "!pip install datasets==2.16.0\n",
    "!pip install sentencepiece\n",
    "!pip install huggingface_hub"
   ]
  },
  {
   "cell_type": "code",
   "execution_count": 11,
   "id": "688cb018-df41-42cf-be6c-f902366f2f69",
   "metadata": {},
   "outputs": [],
   "source": [
    "from transformers import AutoModelForCausalLM, AutoTokenizer, BitsAndBytesConfig,HfArgumentParser,TrainingArguments,pipeline, logging\n",
    "from peft import LoraConfig, PeftModel, prepare_model_for_kbit_training, get_peft_model\n",
    "import os,torch\n",
    "from datasets import load_dataset\n",
    "from trl import SFTTrainer\n",
    "import pandas as pd\n",
    "import pyarrow as pa\n",
    "import pyarrow.dataset as ds\n",
    "import pandas as pd\n",
    "from datasets import Dataset\n",
    "import re\n",
    "import torch\n",
    "from peft import PeftModel\n",
    "from transformers import AutoTokenizer, AutoModelForCausalLM, BitsAndBytesConfig, pipeline\n",
    "import dotenv\n",
    "import os \n",
    "import accelerate"
   ]
  },
  {
   "cell_type": "code",
   "execution_count": 12,
   "id": "6adff86c-0957-47c0-aea5-9bf16a7c034f",
   "metadata": {},
   "outputs": [
    {
     "name": "stdout",
     "output_type": "stream",
     "text": [
      "/bin/bash: line 1: huggingface-cli: command not found\n"
     ]
    }
   ],
   "source": [
    "secret_hf = os.getenv('HUGGINGFACE_TOKEN')\n",
    "!huggingface-cli login --token $secret_hf"
   ]
  },
  {
   "cell_type": "code",
   "execution_count": null,
   "id": "734278ad-1b9d-4d34-b1d8-e27f24b45f5b",
   "metadata": {},
   "outputs": [],
   "source": []
  }
 ],
 "metadata": {
  "kernelspec": {
   "display_name": "Python 3 (ipykernel)",
   "language": "python",
   "name": "python3"
  },
  "language_info": {
   "codemirror_mode": {
    "name": "ipython",
    "version": 3
   },
   "file_extension": ".py",
   "mimetype": "text/x-python",
   "name": "python",
   "nbconvert_exporter": "python",
   "pygments_lexer": "ipython3",
   "version": "3.9.19"
  }
 },
 "nbformat": 4,
 "nbformat_minor": 5
}
